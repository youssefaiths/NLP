{
 "cells": [
  {
   "cell_type": "markdown",
   "id": "97c1afda",
   "metadata": {},
   "source": [
    "# La reconnaissance vocale"
   ]
  },
  {
   "cell_type": "code",
   "execution_count": 27,
   "id": "db8e2b17",
   "metadata": {
    "scrolled": false
   },
   "outputs": [
    {
     "name": "stdout",
     "output_type": "stream",
     "text": [
      "Parlez maintenant...\n",
      "Vous avez dit : and LP stands for natural language processing\n"
     ]
    }
   ],
   "source": [
    "import speech_recognition as sr\n",
    "import csv\n",
    "\n",
    "# Création d'une instance de Recognizer\n",
    "r = sr.Recognizer()\n",
    "# Utilisation du microphone comme source audio\n",
    "with sr.Microphone() as source:\n",
    "    print(\"Parlez maintenant...\")\n",
    "\n",
    "    # Enregistrement de l'audio pendant 10 secondes\n",
    "    audio = r.record(source, duration=10)\n",
    "\n",
    "    try:\n",
    "        # Reconnaissance vocale à l'aide de l'API Google\n",
    "        text = r.recognize_google(audio, language=\"fr-FR\")\n",
    "        print(\"Vous avez dit : \" + text)\n",
    "    except sr.UnknownValueError:\n",
    "        print(\"Impossible de reconnaître la parole\")\n",
    "    except sr.RequestError as e:\n",
    "        print(\"Erreur lors de la requête à l'API Google : {0}\".format(e))\n",
    "\n",
    "# Vérifier si le fichier CSV existe\n",
    "file_exists = os.path.isfile('vocals.csv')\n",
    "\n",
    "# Écrire le texte dans le fichier CSV\n",
    "with open('vocals.csv', 'a', newline='', encoding='utf-8-sig') as file:\n",
    "    writer = csv.writer(file)\n",
    "\n",
    "    # Si le fichier CSV existe, ajouter le texte à la même ligne\n",
    "    if file_exists:\n",
    "        writer.writerow([text])\n",
    "    # Sinon, écrire le texte dans une nouvelle ligne\n",
    "    else:\n",
    "        writer.writerow(['Audio', 'Text'])\n",
    "        writer.writerow(['vocal.wav', text])\n"
   ]
  },
  {
   "cell_type": "code",
   "execution_count": 28,
   "id": "f69314fe",
   "metadata": {},
   "outputs": [
    {
     "data": {
      "text/html": [
       "<div>\n",
       "<style scoped>\n",
       "    .dataframe tbody tr th:only-of-type {\n",
       "        vertical-align: middle;\n",
       "    }\n",
       "\n",
       "    .dataframe tbody tr th {\n",
       "        vertical-align: top;\n",
       "    }\n",
       "\n",
       "    .dataframe thead th {\n",
       "        text-align: right;\n",
       "    }\n",
       "</style>\n",
       "<table border=\"1\" class=\"dataframe\">\n",
       "  <thead>\n",
       "    <tr style=\"text-align: right;\">\n",
       "      <th></th>\n",
       "      <th>Text</th>\n",
       "    </tr>\n",
       "  </thead>\n",
       "  <tbody>\n",
       "    <tr>\n",
       "      <th>0</th>\n",
       "      <td>Bonsoir on est en train de tester l'algorithme</td>\n",
       "    </tr>\n",
       "    <tr>\n",
       "      <th>1</th>\n",
       "      <td>NLP signifier traitement du langage naturel en...</td>\n",
       "    </tr>\n",
       "    <tr>\n",
       "      <th>2</th>\n",
       "      <td>and transport natural language processing</td>\n",
       "    </tr>\n",
       "    <tr>\n",
       "      <th>3</th>\n",
       "      <td>and LP stands for natural language processing</td>\n",
       "    </tr>\n",
       "  </tbody>\n",
       "</table>\n",
       "</div>"
      ],
      "text/plain": [
       "                                                Text\n",
       "0     Bonsoir on est en train de tester l'algorithme\n",
       "1  NLP signifier traitement du langage naturel en...\n",
       "2          and transport natural language processing\n",
       "3      and LP stands for natural language processing"
      ]
     },
     "execution_count": 28,
     "metadata": {},
     "output_type": "execute_result"
    }
   ],
   "source": [
    "import pandas as pd\n",
    "pd.read_csv(\"vocals.csv\")"
   ]
  },
  {
   "cell_type": "code",
   "execution_count": null,
   "id": "e2c3ae4e",
   "metadata": {},
   "outputs": [],
   "source": []
  },
  {
   "cell_type": "code",
   "execution_count": null,
   "id": "cfd39477",
   "metadata": {},
   "outputs": [],
   "source": []
  },
  {
   "cell_type": "markdown",
   "id": "6d8d157a",
   "metadata": {},
   "source": [
    "# L'analyse des émotions"
   ]
  },
  {
   "cell_type": "code",
   "execution_count": 1,
   "id": "fc9b82f0",
   "metadata": {},
   "outputs": [
    {
     "name": "stderr",
     "output_type": "stream",
     "text": [
      "C:\\Users\\aiths\\anaconda3\\lib\\site-packages\\numpy\\_distributor_init.py:30: UserWarning: loaded more than 1 DLL from .libs:\n",
      "C:\\Users\\aiths\\anaconda3\\lib\\site-packages\\numpy\\.libs\\libopenblas.FB5AE2TYXYH2IJRDKGDGQ3XBKLKTF43H.gfortran-win_amd64.dll\n",
      "C:\\Users\\aiths\\anaconda3\\lib\\site-packages\\numpy\\.libs\\libopenblas64__v0.3.21-gcc_10_3_0.dll\n",
      "  warnings.warn(\"loaded more than 1 DLL from .libs:\"\n"
     ]
    },
    {
     "name": "stdout",
     "output_type": "stream",
     "text": [
      "Parlez maintenant...\n"
     ]
    },
    {
     "ename": "UnknownValueError",
     "evalue": "",
     "output_type": "error",
     "traceback": [
      "\u001b[1;31m---------------------------------------------------------------------------\u001b[0m",
      "\u001b[1;31mUnknownValueError\u001b[0m                         Traceback (most recent call last)",
      "Cell \u001b[1;32mIn[1], line 18\u001b[0m\n\u001b[0;32m     15\u001b[0m     audio \u001b[38;5;241m=\u001b[39m r\u001b[38;5;241m.\u001b[39mrecord(source, duration\u001b[38;5;241m=\u001b[39m\u001b[38;5;241m5\u001b[39m)\n\u001b[0;32m     17\u001b[0m \u001b[38;5;66;03m# Conversion de la parole en texte\u001b[39;00m\n\u001b[1;32m---> 18\u001b[0m text \u001b[38;5;241m=\u001b[39m \u001b[43mr\u001b[49m\u001b[38;5;241;43m.\u001b[39;49m\u001b[43mrecognize_google\u001b[49m\u001b[43m(\u001b[49m\u001b[43maudio\u001b[49m\u001b[43m,\u001b[49m\u001b[43m \u001b[49m\u001b[43mlanguage\u001b[49m\u001b[38;5;241;43m=\u001b[39;49m\u001b[38;5;124;43m\"\u001b[39;49m\u001b[38;5;124;43men-EN\u001b[39;49m\u001b[38;5;124;43m\"\u001b[39;49m\u001b[43m)\u001b[49m\n\u001b[0;32m     20\u001b[0m \u001b[38;5;66;03m# Analyse des sentiments\u001b[39;00m\n\u001b[0;32m     21\u001b[0m blob \u001b[38;5;241m=\u001b[39m TextBlob(text)\n",
      "File \u001b[1;32m~\\anaconda3\\lib\\site-packages\\speech_recognition\\__init__.py:728\u001b[0m, in \u001b[0;36mRecognizer.recognize_google\u001b[1;34m(self, audio_data, key, language, pfilter, show_all, with_confidence)\u001b[0m\n\u001b[0;32m    725\u001b[0m \u001b[38;5;28;01mif\u001b[39;00m show_all:\n\u001b[0;32m    726\u001b[0m     \u001b[38;5;28;01mreturn\u001b[39;00m actual_result\n\u001b[1;32m--> 728\u001b[0m \u001b[38;5;28;01mif\u001b[39;00m \u001b[38;5;129;01mnot\u001b[39;00m \u001b[38;5;28misinstance\u001b[39m(actual_result, \u001b[38;5;28mdict\u001b[39m) \u001b[38;5;129;01mor\u001b[39;00m \u001b[38;5;28mlen\u001b[39m(actual_result\u001b[38;5;241m.\u001b[39mget(\u001b[38;5;124m\"\u001b[39m\u001b[38;5;124malternative\u001b[39m\u001b[38;5;124m\"\u001b[39m, [])) \u001b[38;5;241m==\u001b[39m \u001b[38;5;241m0\u001b[39m: \u001b[38;5;28;01mraise\u001b[39;00m UnknownValueError()\n\u001b[0;32m    730\u001b[0m \u001b[38;5;28;01mif\u001b[39;00m \u001b[38;5;124m\"\u001b[39m\u001b[38;5;124mconfidence\u001b[39m\u001b[38;5;124m\"\u001b[39m \u001b[38;5;129;01min\u001b[39;00m actual_result[\u001b[38;5;124m\"\u001b[39m\u001b[38;5;124malternative\u001b[39m\u001b[38;5;124m\"\u001b[39m]:\n\u001b[0;32m    731\u001b[0m     \u001b[38;5;66;03m# return alternative with highest confidence score\u001b[39;00m\n\u001b[0;32m    732\u001b[0m     best_hypothesis \u001b[38;5;241m=\u001b[39m \u001b[38;5;28mmax\u001b[39m(actual_result[\u001b[38;5;124m\"\u001b[39m\u001b[38;5;124malternative\u001b[39m\u001b[38;5;124m\"\u001b[39m], key\u001b[38;5;241m=\u001b[39m\u001b[38;5;28;01mlambda\u001b[39;00m alternative: alternative[\u001b[38;5;124m\"\u001b[39m\u001b[38;5;124mconfidence\u001b[39m\u001b[38;5;124m\"\u001b[39m])\n",
      "\u001b[1;31mUnknownValueError\u001b[0m: "
     ]
    }
   ],
   "source": [
    "import speech_recognition as sr\n",
    "from textblob import TextBlob\n",
    "\n",
    "# Création d'une instance du recognizer\n",
    "r = sr.Recognizer()\n",
    "\n",
    "# Utilisation du microphone comme source audio\n",
    "with sr.Microphone() as source:\n",
    "    print(\"Parlez maintenant...\")\n",
    "\n",
    "    # Ajustement du seuil d'énergie pour les niveaux de bruit ambiant\n",
    "    r.adjust_for_ambient_noise(source)\n",
    "\n",
    "    # Enregistrement audio pendant 5 secondes\n",
    "    audio = r.record(source, duration=5)\n",
    "\n",
    "# Conversion de la parole en texte\n",
    "text = r.recognize_google(audio, language=\"en-EN\")\n",
    "\n",
    "# Analyse des sentiments\n",
    "blob = TextBlob(text)\n",
    "sentiment = blob.sentiment.polarity\n",
    "\n",
    "# Détermination de l'étiquette de sentiment en fonction du score de sentiment\n",
    "if sentiment > 0:\n",
    "    sentiment_label = \"Positif\"\n",
    "elif sentiment < 0:\n",
    "    sentiment_label = \"Négatif\"\n",
    "else:\n",
    "    sentiment_label = \"Neutre\"\n",
    "\n",
    "# Affichage des résultats de l'analyse de sentiment\n",
    "print(\"Texte : \", text)\n",
    "print(\"Sentiment : \", sentiment_label)\n",
    "print(\"Score de sentiment : \", sentiment)\n"
   ]
  },
  {
   "cell_type": "code",
   "execution_count": null,
   "id": "ce3ae8bb",
   "metadata": {},
   "outputs": [],
   "source": []
  },
  {
   "cell_type": "code",
   "execution_count": null,
   "id": "90c9985b",
   "metadata": {},
   "outputs": [],
   "source": []
  },
  {
   "cell_type": "code",
   "execution_count": null,
   "id": "e436e7bd",
   "metadata": {},
   "outputs": [],
   "source": []
  },
  {
   "cell_type": "code",
   "execution_count": null,
   "id": "7690afdb",
   "metadata": {},
   "outputs": [],
   "source": []
  },
  {
   "cell_type": "code",
   "execution_count": null,
   "id": "2f0f0408",
   "metadata": {},
   "outputs": [],
   "source": []
  },
  {
   "cell_type": "code",
   "execution_count": null,
   "id": "cb1557ee",
   "metadata": {},
   "outputs": [],
   "source": []
  },
  {
   "cell_type": "code",
   "execution_count": null,
   "id": "d875ca7b",
   "metadata": {},
   "outputs": [],
   "source": []
  },
  {
   "cell_type": "code",
   "execution_count": null,
   "id": "4f59b8e9",
   "metadata": {},
   "outputs": [],
   "source": []
  },
  {
   "cell_type": "code",
   "execution_count": null,
   "id": "1784c7e2",
   "metadata": {},
   "outputs": [],
   "source": []
  },
  {
   "cell_type": "code",
   "execution_count": null,
   "id": "dc09ee35",
   "metadata": {},
   "outputs": [],
   "source": []
  }
 ],
 "metadata": {
  "kernelspec": {
   "display_name": "Python 3 (ipykernel)",
   "language": "python",
   "name": "python3"
  },
  "language_info": {
   "codemirror_mode": {
    "name": "ipython",
    "version": 3
   },
   "file_extension": ".py",
   "mimetype": "text/x-python",
   "name": "python",
   "nbconvert_exporter": "python",
   "pygments_lexer": "ipython3",
   "version": "3.10.9"
  }
 },
 "nbformat": 4,
 "nbformat_minor": 5
}
